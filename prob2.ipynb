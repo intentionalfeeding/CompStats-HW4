{
 "cells": [
  {
   "cell_type": "code",
   "execution_count": 1,
   "id": "ade4727f",
   "metadata": {},
   "outputs": [],
   "source": [
    "import random\n",
    "import numpy as np"
   ]
  },
  {
   "cell_type": "code",
   "execution_count": 2,
   "id": "f5775499",
   "metadata": {},
   "outputs": [],
   "source": [
    "def random_exp(xmin = 0, xmax = 10):\n",
    "    res = 0\n",
    "    P = lambda x: np.exp(-x)\n",
    "    while not res:\n",
    "        x = np.random.uniform(xmin, xmax)  \n",
    "        y = np.random.uniform(0,1)\n",
    "        if y < P(x):\n",
    "            res = x\n",
    "    return res"
   ]
  },
  {
   "cell_type": "code",
   "execution_count": 3,
   "id": "0153bd7b",
   "metadata": {},
   "outputs": [],
   "source": [
    "def random_chi(xmin = 0, xmax = 10):\n",
    "    res = 0\n",
    "    P = lambda x: 1/2*np.exp(-x/2)\n",
    "    while not res:\n",
    "        x = np.random.uniform(xmin, xmax)  \n",
    "        y = np.random.uniform(0,1)\n",
    "        if y < P(x):\n",
    "            res = x\n",
    "    return res"
   ]
  },
  {
   "cell_type": "code",
   "execution_count": 4,
   "id": "69969b8b",
   "metadata": {},
   "outputs": [],
   "source": [
    "def random_normal(mean=0,sigma2=1):\n",
    "    U1 = np.random.uniform()\n",
    "    U2 = np.random.uniform()\n",
    "    R = np.sqrt(-2 * np.log(U1))\n",
    "    Theta = 2 * np.pi * U2\n",
    "    X = R * np.cos(Theta)*np.sqrt(sigma2)+mean\n",
    "    return X"
   ]
  },
  {
   "cell_type": "code",
   "execution_count": 5,
   "id": "9977a64f",
   "metadata": {},
   "outputs": [],
   "source": [
    "def sample_1(n = 1000):\n",
    "    res_list=[]\n",
    "    for i in range(n):\n",
    "        mu = random_exp(0,100)\n",
    "        sigma = random_chi(0,100)\n",
    "        res = random_normal(mean = mu, sigma2 = sigma)\n",
    "        res_list.append(res)\n",
    "    return res_list"
   ]
  },
  {
   "cell_type": "code",
   "execution_count": 6,
   "id": "5a8d5359",
   "metadata": {},
   "outputs": [
    {
     "name": "stdout",
     "output_type": "stream",
     "text": [
      "0.9908519648513869\n"
     ]
    }
   ],
   "source": [
    "l= sample_1(n=10000)\n",
    "aver = np.mean(l)\n",
    "print(aver)"
   ]
  },
  {
   "cell_type": "code",
   "execution_count": null,
   "id": "2b14c56f",
   "metadata": {},
   "outputs": [],
   "source": []
  }
 ],
 "metadata": {
  "kernelspec": {
   "display_name": "Python 3 (ipykernel)",
   "language": "python",
   "name": "python3"
  },
  "language_info": {
   "codemirror_mode": {
    "name": "ipython",
    "version": 3
   },
   "file_extension": ".py",
   "mimetype": "text/x-python",
   "name": "python",
   "nbconvert_exporter": "python",
   "pygments_lexer": "ipython3",
   "version": "3.9.7"
  }
 },
 "nbformat": 4,
 "nbformat_minor": 5
}
