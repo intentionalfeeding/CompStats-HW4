{
 "cells": [
  {
   "cell_type": "code",
   "execution_count": 1,
   "id": "a2b13262",
   "metadata": {},
   "outputs": [],
   "source": [
    "import random\n",
    "import numpy as np"
   ]
  },
  {
   "cell_type": "code",
   "execution_count": 2,
   "id": "e939fb39",
   "metadata": {},
   "outputs": [],
   "source": [
    "def random_ex3(xmin = 0, xmax = 100):\n",
    "    res = 0\n",
    "    P = lambda x: x**4*np.exp(-x)/24\n",
    "    while not res:\n",
    "        x = np.random.uniform(xmin, xmax)  \n",
    "        y = np.random.uniform(0,1)\n",
    "        if y < P(x):\n",
    "            res = x\n",
    "    return res"
   ]
  },
  {
   "cell_type": "code",
   "execution_count": 3,
   "id": "df67cef7",
   "metadata": {},
   "outputs": [],
   "source": [
    "samples = [random_ex3() for i in range(50)]"
   ]
  },
  {
   "cell_type": "code",
   "execution_count": 4,
   "id": "0a84a4db",
   "metadata": {},
   "outputs": [],
   "source": [
    "def kernel(x,x2,h):\n",
    "    if np.abs(x-x2) <= h:\n",
    "        res = 315/256*(1-((x-x2)/h)**2)**4/h\n",
    "    else:\n",
    "        res = 0\n",
    "    return res"
   ]
  },
  {
   "cell_type": "code",
   "execution_count": 5,
   "id": "907e6114",
   "metadata": {},
   "outputs": [],
   "source": [
    "def kernel_estimator(h=0.1 , train=samples):\n",
    "    def f(x):\n",
    "        y = 0\n",
    "        for i in train:\n",
    "            y = y + kernel(x,i,h)\n",
    "        return y/50\n",
    "    return(f)"
   ]
  },
  {
   "cell_type": "code",
   "execution_count": 6,
   "id": "0a502656",
   "metadata": {},
   "outputs": [],
   "source": [
    "from scipy.integrate import quad"
   ]
  },
  {
   "cell_type": "code",
   "execution_count": 7,
   "id": "6427f139",
   "metadata": {},
   "outputs": [],
   "source": [
    "def error(h=0.1):\n",
    "    f1 = kernel_estimator(h,samples)\n",
    "    def f2(x):\n",
    "        return x**4*np.exp(-x)/24\n",
    "    def f3(x):\n",
    "        return (f1(x)-f2(x))**2\n",
    "    return quad(f3, 0, np.inf)[0]"
   ]
  },
  {
   "cell_type": "code",
   "execution_count": 8,
   "id": "708ad3e3",
   "metadata": {},
   "outputs": [
    {
     "name": "stdout",
     "output_type": "stream",
     "text": [
      "0.17192499333727101\n",
      "0.06696291274772097\n",
      "0.03079523436314097\n",
      "0.012511527311572547\n",
      "0.005040566554015235\n",
      "0.02725035674909294\n"
     ]
    },
    {
     "name": "stderr",
     "output_type": "stream",
     "text": [
      "/var/folders/b1/_vrkxjy92xs16ht50b6l02ch0000gn/T/ipykernel_74185/1774701080.py:7: IntegrationWarning: The maximum number of subdivisions (50) has been achieved.\n",
      "  If increasing the limit yields no improvement it is advised to analyze \n",
      "  the integrand in order to determine the difficulties.  If the position of a \n",
      "  local difficulty can be determined (singularity, discontinuity) one will \n",
      "  probably gain from splitting up the interval and calling the integrator \n",
      "  on the subranges.  Perhaps a special-purpose integrator should be used.\n",
      "  return quad(f3, 0, np.inf)[0]\n"
     ]
    }
   ],
   "source": [
    "print(error(h=0.1))\n",
    "print(error(h=0.25))\n",
    "print(error(h=0.5))\n",
    "print(error(h=1))\n",
    "print(error(h=2.5))\n",
    "print(error(h=10))"
   ]
  },
  {
   "cell_type": "code",
   "execution_count": 9,
   "id": "4068a4ce",
   "metadata": {},
   "outputs": [],
   "source": [
    "def local_search(f,x0,stepsize):\n",
    "    flag = True\n",
    "    while flag:\n",
    "        if f(x0 - stepsize) > f(x0) and f(x0 + stepsize) > f(x0) :\n",
    "            flag = False\n",
    "        if f(x0 - stepsize) <= f(x0):\n",
    "            x0 = x0 - stepsize\n",
    "        if f(x0 + stepsize) <= f(x0):\n",
    "            x0 = x0 + stepsize\n",
    "    return x0  "
   ]
  },
  {
   "cell_type": "code",
   "execution_count": 10,
   "id": "aac16a14",
   "metadata": {},
   "outputs": [
    {
     "data": {
      "text/plain": [
       "2.7000000000000015"
      ]
     },
     "execution_count": 10,
     "metadata": {},
     "output_type": "execute_result"
    }
   ],
   "source": [
    "local_search(error,1,0.1)"
   ]
  },
  {
   "cell_type": "code",
   "execution_count": null,
   "id": "a4c4b07d",
   "metadata": {},
   "outputs": [],
   "source": []
  }
 ],
 "metadata": {
  "kernelspec": {
   "display_name": "Python 3 (ipykernel)",
   "language": "python",
   "name": "python3"
  },
  "language_info": {
   "codemirror_mode": {
    "name": "ipython",
    "version": 3
   },
   "file_extension": ".py",
   "mimetype": "text/x-python",
   "name": "python",
   "nbconvert_exporter": "python",
   "pygments_lexer": "ipython3",
   "version": "3.9.7"
  }
 },
 "nbformat": 4,
 "nbformat_minor": 5
}
